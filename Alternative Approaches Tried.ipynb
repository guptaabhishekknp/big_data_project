{
 "cells": [
  {
   "cell_type": "code",
   "execution_count": null,
   "metadata": {},
   "outputs": [],
   "source": [
    "import pandas as pd\n",
    "import keras\n",
    "from keras.layers import Dense\n",
    "from keras.models import Sequential\n",
    "from keras.optimizers import SGD\n",
    "import numpy as np\n",
    "from collections import Counter\n",
    "user_history = pd.read_csv('user_history.csv')\n",
    "user_ratings = pd.read_csv('user_ratings.csv')"
   ]
  },
  {
   "cell_type": "code",
   "execution_count": null,
   "metadata": {},
   "outputs": [],
   "source": [
    "history_by_id = user_history.set_index('USER ID')\n",
    "al_bas = user_ratings.groupby('PRODUCT').get_group('balance hostel').set_index('USER ID').drop(['PRODUCT'],axis=1)\n",
    "al_bas_users_hist = history_by_id.loc[al_bas.index]"
   ]
  },
  {
   "cell_type": "code",
   "execution_count": null,
   "metadata": {},
   "outputs": [],
   "source": [
    "al_bas_users_hist['RATING'] = al_bas"
   ]
  },
  {
   "cell_type": "code",
   "execution_count": null,
   "metadata": {},
   "outputs": [],
   "source": [
    "num = al_bas_users_hist.shape[0]\n",
    "al_bas_users_hist.shape"
   ]
  },
  {
   "cell_type": "code",
   "execution_count": null,
   "metadata": {},
   "outputs": [],
   "source": [
    "al_bas_users_hist = al_bas_users_hist.sample(frac=1)\n",
    "train_frame = al_bas_users_hist.head(1200)\n",
    "test_frame = al_bas_users_hist.tail(num-1200)\n",
    "\n",
    "print(train_frame.shape,test_frame.shape)"
   ]
  },
  {
   "cell_type": "code",
   "execution_count": null,
   "metadata": {},
   "outputs": [],
   "source": [
    "X_test = test_frame.drop(['RATING'], axis=1).to_numpy()\n",
    "y_test = np.array([[v] for v in list(test_frame.RATING)])"
   ]
  },
  {
   "cell_type": "code",
   "execution_count": null,
   "metadata": {},
   "outputs": [],
   "source": [
    "maxm = train_frame.RATING.value_counts().max()\n",
    "indx_srtd = train_frame.RATING.value_counts().sort_index()\n",
    "indx_srtd"
   ]
  },
  {
   "cell_type": "code",
   "execution_count": null,
   "metadata": {},
   "outputs": [],
   "source": [
    "row_list = []\n",
    "for i in range(11):\n",
    "    v = indx_srtd[i]\n",
    "    g_i = train_frame.groupby('RATING').get_group(i)\n",
    "    while v<maxm:\n",
    "        for index, row in g_i.iterrows():\n",
    "            row_list.append(row)\n",
    "            v+=1\n",
    "            \n",
    "            if v>=maxm:\n",
    "                break\n",
    "\n",
    "train_frame_augmented = train_frame.append(row_list)\n",
    "train_frame_augmented = train_frame_augmented.sample(frac=1)#this is to shuffle the rows or else training will takes batches serially and fuck it up\n",
    "y = list(train_frame_augmented.RATING)"
   ]
  },
  {
   "cell_type": "code",
   "execution_count": null,
   "metadata": {},
   "outputs": [],
   "source": [
    "train_frame_augmented.RATING.value_counts()"
   ]
  },
  {
   "cell_type": "code",
   "execution_count": null,
   "metadata": {},
   "outputs": [],
   "source": [
    "X_train = train_frame_augmented.drop(['RATING'], axis=1).to_numpy()"
   ]
  },
  {
   "cell_type": "code",
   "execution_count": null,
   "metadata": {},
   "outputs": [],
   "source": [
    "y_train = np.array([[v] for v in y])"
   ]
  },
  {
   "cell_type": "code",
   "execution_count": null,
   "metadata": {},
   "outputs": [],
   "source": [
    "#This is the right model, don't change this!\n",
    "\"\"\"\n",
    "model = Sequential()\n",
    "\n",
    "model.add(Dense(100,activation='tanh'))\n",
    "model.add(Dense(20,activation='tanh'))\n",
    "model.add(Dense(1))\n",
    "\n",
    "sgd = SGD(lr = 0.01, decay = 0.0, momentum=0.8, nesterov=True)\n",
    "model.compile(loss='mae', optimizer='adam', metrics=['mse']) #mae=mean absolute error\n",
    "\n",
    "model.fit(X, y, validation_split=0.2, epochs=20, batch_size=50)\"\"\""
   ]
  },
  {
   "cell_type": "code",
   "execution_count": null,
   "metadata": {},
   "outputs": [],
   "source": [
    "#Experiment here\n",
    "\n",
    "model = Sequential()\n",
    "\n",
    "model.add(Dense(100,activation='tanh'))\n",
    "model.add(Dense(20,activation='tanh'))\n",
    "model.add(Dense(1))\n",
    "\n",
    "sgd = SGD(lr = 0.01, decay = 0.0, momentum=0.8, nesterov=True)\n",
    "model.compile(loss='mae', optimizer='adam', metrics=['mse']) #mae=mean absolute error\n",
    "\n",
    "model.fit(X_train, y_train, validation_split=0.0, epochs=20, batch_size=50)"
   ]
  },
  {
   "cell_type": "code",
   "execution_count": null,
   "metadata": {},
   "outputs": [],
   "source": [
    "y_pred = model.predict(X_test)"
   ]
  },
  {
   "cell_type": "code",
   "execution_count": null,
   "metadata": {},
   "outputs": [],
   "source": [
    "rounded = [int(round(v[0])) for v in y_pred]\n",
    "y_new = [i[0] for i in y_test]\n",
    "diff = np.array([rounded[i]-y_new[i] for i in range(len(y_new))])"
   ]
  },
  {
   "cell_type": "code",
   "execution_count": null,
   "metadata": {},
   "outputs": [],
   "source": [
    "i_true = Counter(y_new).items()\n",
    "i_pred = Counter(rounded).items()\n",
    "\n",
    "true = {k:0 for k in range(11)}\n",
    "for key, value in i_true:\n",
    "    true[key] = value\n",
    "\n",
    "pred = {k:0 for k in range(11)}\n",
    "for key, value in i_pred:\n",
    "    pred[key] = value\n",
    "\n",
    "for i in range(11):\n",
    "    print('{} true:{}  pred:{}'.format(i,true[i],pred[i]))"
   ]
  },
  {
   "cell_type": "code",
   "execution_count": null,
   "metadata": {},
   "outputs": [],
   "source": [
    "import matplotlib.pyplot as plt\n",
    "\n",
    "plt.plot(range(11),[true[x] for x in range(11)],label='true')\n",
    "plt.plot(range(11),[pred[x] for x in range(11)],label='pred')\n",
    "plt.legend()\n",
    "plt.show()"
   ]
  },
  {
   "cell_type": "code",
   "execution_count": null,
   "metadata": {},
   "outputs": [],
   "source": [
    "Counter(diff)"
   ]
  },
  {
   "cell_type": "code",
   "execution_count": null,
   "metadata": {},
   "outputs": [],
   "source": [
    "models = []\n",
    "for i in range(1,10):\n",
    "    X = train_frame.drop(['RATING'], axis=1).to_numpy()\n",
    "    \n",
    "    y = np.array([np.array(arr) for arr in train_frame.RATING.apply(lambda x: [int(x<i),int(x==i),int(x>i)])])\n",
    "    \n",
    "    models.append(Sequential())\n",
    "    models[i-1].add(Dense(100,activation='tanh'))\n",
    "    models[i-1].add(Dense(20,activation='tanh'))\n",
    "    models[i-1].add(Dense(3,activation='softmax'))\n",
    "\n",
    "    sgd = SGD(lr = 0.01, decay = 0.0, momentum=0.8, nesterov=True)\n",
    "    models[i-1].compile(loss='categorical_crossentropy', optimizer='adam', metrics=['accuracy']) #mae=mean absolute error\n",
    "\n",
    "    models[i-1].fit(X, y, validation_split=0.2, epochs=20, batch_size=50)\n",
    "    \n",
    "#interpret the predicted tupla as probability and take product to get the probability of being a particular value\n",
    "#then take max of all the values to get the answer"
   ]
  },
  {
   "cell_type": "code",
   "execution_count": null,
   "metadata": {},
   "outputs": [],
   "source": [
    "i = 0\n",
    "X = train_frame.drop(['RATING'], axis=1).to_numpy()\n",
    "y = np.array([np.array(arr) for arr in train_frame.RATING.apply(lambda x: [int(x==i),int(x>i)])])\n",
    "\n",
    "model0 = Sequential()\n",
    "model0.add(Dense(100,activation='tanh'))\n",
    "model0.add(Dense(20,activation='tanh'))\n",
    "model0.add(Dense(2,activation='softmax'))\n",
    "\n",
    "sgd = SGD(lr = 0.01, decay = 0.0, momentum=0.8, nesterov=True)\n",
    "model0.compile(loss='categorical_crossentropy', optimizer='adam', metrics=['accuracy']) #mae=mean absolute error\n",
    "\n",
    "model0.fit(X, y, validation_split=0.2, epochs=20, batch_size=50)\n",
    "\n",
    "#models = [model] + models\n",
    "\n",
    "i = 10\n",
    "\n",
    "X = train_frame.drop(['RATING'], axis=1).to_numpy()\n",
    "    \n",
    "y = np.array([np.array(arr) for arr in train_frame.RATING.apply(lambda x: [int(x<i),int(x==i)])])\n",
    "\n",
    "model10 = Sequential()\n",
    "model10.add(Dense(100,activation='tanh'))\n",
    "model10.add(Dense(20,activation='tanh'))\n",
    "model10.add(Dense(2,activation='softmax'))\n",
    "\n",
    "sgd = SGD(lr = 0.01, decay = 0.0, momentum=0.8, nesterov=True)\n",
    "model10.compile(loss='categorical_crossentropy', optimizer='adam', metrics=['accuracy']) #mae=mean absolute error\n",
    "\n",
    "model10.fit(X, y, validation_split=0.2, epochs=20, batch_size=50)\n",
    "\n",
    "#models = models + [model]"
   ]
  },
  {
   "cell_type": "code",
   "execution_count": null,
   "metadata": {},
   "outputs": [],
   "source": [
    "X = test_frame.drop(['RATING'],axis=1).to_numpy()\n",
    "y = list(test_frame.RATING)\n",
    "model_preds = []\n",
    "for model in models:\n",
    "    model_preds.append(model.predict(X))\n",
    "\n",
    "mod_preds0= model0.predict(X)\n",
    "mod_preds10= model10.predict(X)"
   ]
  },
  {
   "cell_type": "code",
   "execution_count": null,
   "metadata": {},
   "outputs": [],
   "source": [
    "def prob_calc(l):\n",
    "    prob = np.ones(11,dtype=float)\n",
    "    prob = prob * [l[0][int(i!=0)] for i in range(11)]\n",
    "    \n",
    "    prob = prob * [l[10][int(i==10)] for i in range(11)]\n",
    "    for i in range(1,10):\n",
    "        multiplier = [l[i][np.sign(j-i)+1] for j in range(0,11)]\n",
    "        prob *= multiplier\n",
    "        \n",
    "    return prob\n",
    "\n",
    "y_res = []\n",
    "\n",
    "for i in range(len(X)):\n",
    "    prob_v = prob_calc([model[i] for model in model_preds])\n",
    "    y_res.append([list(prob_v).index(max(prob_v))])"
   ]
  },
  {
   "cell_type": "code",
   "execution_count": 446,
   "metadata": {},
   "outputs": [],
   "source": [
    "rounded = [v[0] for v in y_res]\n",
    "\n",
    "diff = np.array([rounded[i]-y[i] for i in range(len(y_new))])"
   ]
  },
  {
   "cell_type": "code",
   "execution_count": 447,
   "metadata": {},
   "outputs": [
    {
     "name": "stdout",
     "output_type": "stream",
     "text": [
      "0 true:6  pred:6\n",
      "1 true:12  pred:9\n",
      "2 true:16  pred:9\n",
      "3 true:46  pred:18\n",
      "4 true:67  pred:14\n",
      "5 true:35  pred:151\n",
      "6 true:30  pred:56\n",
      "7 true:38  pred:10\n",
      "8 true:21  pred:8\n",
      "9 true:11  pred:2\n",
      "10 true:8  pred:7\n"
     ]
    }
   ],
   "source": [
    "i_true = Counter(y).items()\n",
    "i_pred = Counter(rounded).items()\n",
    "\n",
    "true = {k:0 for k in range(11)}\n",
    "for key, value in i_true:\n",
    "    true[key] = value\n",
    "\n",
    "pred = {k:0 for k in range(11)}\n",
    "for key, value in i_pred:\n",
    "    pred[key] = value\n",
    "\n",
    "for i in range(11):\n",
    "    print('{} true:{}  pred:{}'.format(i,true[i],pred[i]))"
   ]
  },
  {
   "cell_type": "code",
   "execution_count": 2,
   "metadata": {},
   "outputs": [],
   "source": [
    "import numpy as np\n",
    "sim = np.load('kmeans errors vs k.npy')"
   ]
  },
  {
   "cell_type": "code",
   "execution_count": 3,
   "metadata": {},
   "outputs": [
    {
     "data": {
      "text/plain": [
       "array([[1.00000000e+00, 4.19847407e+05],\n",
       "       [2.00000000e+00, 2.49727526e+05],\n",
       "       [3.00000000e+00, 9.55217422e+04],\n",
       "       [4.00000000e+00, 8.57410126e+04],\n",
       "       [5.00000000e+00, 7.80306422e+04],\n",
       "       [6.00000000e+00, 7.10940738e+04],\n",
       "       [7.00000000e+00, 6.67769671e+04],\n",
       "       [8.00000000e+00, 6.25645858e+04],\n",
       "       [9.00000000e+00, 5.92732414e+04],\n",
       "       [1.00000000e+01, 5.68982288e+04],\n",
       "       [1.10000000e+01, 5.46418392e+04],\n",
       "       [1.20000000e+01, 5.28923119e+04],\n",
       "       [1.30000000e+01, 5.09724317e+04],\n",
       "       [1.40000000e+01, 4.92794764e+04],\n",
       "       [1.50000000e+01, 4.79063423e+04],\n",
       "       [1.60000000e+01, 4.66712360e+04],\n",
       "       [1.70000000e+01, 4.55794742e+04],\n",
       "       [1.80000000e+01, 4.46120607e+04],\n",
       "       [1.90000000e+01, 4.38079842e+04],\n",
       "       [2.00000000e+01, 4.29712423e+04],\n",
       "       [2.10000000e+01, 4.22574272e+04],\n",
       "       [2.20000000e+01, 4.16312408e+04],\n",
       "       [2.30000000e+01, 4.09288454e+04],\n",
       "       [2.40000000e+01, 4.02885338e+04],\n",
       "       [2.50000000e+01, 3.98627075e+04],\n",
       "       [2.60000000e+01, 3.93943722e+04],\n",
       "       [2.70000000e+01, 3.89121442e+04],\n",
       "       [2.80000000e+01, 3.84291699e+04],\n",
       "       [2.90000000e+01, 3.81171658e+04],\n",
       "       [3.00000000e+01, 3.77100429e+04],\n",
       "       [3.10000000e+01, 3.72790444e+04],\n",
       "       [3.20000000e+01, 3.70212056e+04],\n",
       "       [3.30000000e+01, 3.66346089e+04],\n",
       "       [3.40000000e+01, 3.64411188e+04],\n",
       "       [3.50000000e+01, 3.59722572e+04],\n",
       "       [3.60000000e+01, 3.58963915e+04],\n",
       "       [3.70000000e+01, 3.55333935e+04],\n",
       "       [3.80000000e+01, 3.51977108e+04],\n",
       "       [3.90000000e+01, 3.49589948e+04],\n",
       "       [4.00000000e+01, 3.47227775e+04],\n",
       "       [4.10000000e+01, 3.46080272e+04],\n",
       "       [4.20000000e+01, 3.43405889e+04],\n",
       "       [4.30000000e+01, 3.42134565e+04],\n",
       "       [4.40000000e+01, 3.39065142e+04],\n",
       "       [4.50000000e+01, 3.37886649e+04],\n",
       "       [4.60000000e+01, 3.35555035e+04],\n",
       "       [4.70000000e+01, 3.34106868e+04],\n",
       "       [4.80000000e+01, 3.32324823e+04],\n",
       "       [4.90000000e+01, 3.30358293e+04],\n",
       "       [5.00000000e+01, 3.28708849e+04],\n",
       "       [5.10000000e+01, 3.27507469e+04],\n",
       "       [5.20000000e+01, 3.25705886e+04],\n",
       "       [5.30000000e+01, 3.24480522e+04],\n",
       "       [5.40000000e+01, 3.22165861e+04],\n",
       "       [5.50000000e+01, 3.21266745e+04],\n",
       "       [5.60000000e+01, 3.20349383e+04],\n",
       "       [5.70000000e+01, 3.19215972e+04],\n",
       "       [5.80000000e+01, 3.17742934e+04],\n",
       "       [5.90000000e+01, 3.15138983e+04],\n",
       "       [6.00000000e+01, 3.15715443e+04],\n",
       "       [6.10000000e+01, 3.14095866e+04],\n",
       "       [6.20000000e+01, 3.13864357e+04],\n",
       "       [6.30000000e+01, 3.12643149e+04],\n",
       "       [6.40000000e+01, 3.11016176e+04],\n",
       "       [6.50000000e+01, 3.09936851e+04],\n",
       "       [6.60000000e+01, 3.09408486e+04],\n",
       "       [6.70000000e+01, 3.08811790e+04],\n",
       "       [6.80000000e+01, 3.07776949e+04],\n",
       "       [6.90000000e+01, 3.06139015e+04],\n",
       "       [7.00000000e+01, 3.05651315e+04],\n",
       "       [7.10000000e+01, 3.05162574e+04],\n",
       "       [7.20000000e+01, 3.04111467e+04],\n",
       "       [7.30000000e+01, 3.02976236e+04],\n",
       "       [7.40000000e+01, 3.01903880e+04],\n",
       "       [7.50000000e+01, 3.01623954e+04],\n",
       "       [7.60000000e+01, 3.01085276e+04],\n",
       "       [7.70000000e+01, 3.00460716e+04],\n",
       "       [7.80000000e+01, 3.00117878e+04],\n",
       "       [7.90000000e+01, 2.99247235e+04],\n",
       "       [8.00000000e+01, 2.98183791e+04],\n",
       "       [8.10000000e+01, 2.97361244e+04],\n",
       "       [8.20000000e+01, 2.96322679e+04],\n",
       "       [8.30000000e+01, 2.95828087e+04],\n",
       "       [8.40000000e+01, 2.95762815e+04],\n",
       "       [8.50000000e+01, 2.94970227e+04],\n",
       "       [8.60000000e+01, 2.94384318e+04],\n",
       "       [8.70000000e+01, 2.93991848e+04],\n",
       "       [8.80000000e+01, 2.93448770e+04],\n",
       "       [8.90000000e+01, 2.92273247e+04],\n",
       "       [9.00000000e+01, 2.91197537e+04],\n",
       "       [9.10000000e+01, 2.90820836e+04],\n",
       "       [9.20000000e+01, 2.91314459e+04],\n",
       "       [9.30000000e+01, 2.90330770e+04],\n",
       "       [9.40000000e+01, 2.89499592e+04],\n",
       "       [9.50000000e+01, 2.89571437e+04],\n",
       "       [9.60000000e+01, 2.88359699e+04],\n",
       "       [9.70000000e+01, 2.88617514e+04],\n",
       "       [9.80000000e+01, 2.88009954e+04],\n",
       "       [9.90000000e+01, 2.86924500e+04]])"
      ]
     },
     "execution_count": 3,
     "metadata": {},
     "output_type": "execute_result"
    }
   ],
   "source": [
    "sim"
   ]
  },
  {
   "cell_type": "code",
   "execution_count": null,
   "metadata": {},
   "outputs": [],
   "source": [
    "import numpy as np\n",
    "import pandas as pd\n",
    "from collections import Counter\n",
    "\n",
    "user_history = pd.read_csv('user_history.csv')\n",
    "user_ratings = pd.read_csv('user_ratings.csv')"
   ]
  },
  {
   "cell_type": "code",
   "execution_count": null,
   "metadata": {},
   "outputs": [],
   "source": [
    "id_list = list(user_history['USER ID'])\n",
    "user_ratings.groupby('USER ID')['PRODUCT'].apply(list).apply(len)\n",
    "alaska_basil = user_ratings.groupby('PRODUCT')['USER ID'].apply(list)['pegasus respond']\n",
    "history_by_id = user_history.set_index('USER ID')\n",
    "al_bas = user_ratings.groupby('PRODUCT').get_group('pegasus respond').set_index('USER ID').drop(['PRODUCT'],axis=1)\n",
    "al_bas_users_hist = history_by_id.loc[al_bas.index]\n",
    "X = al_bas_users_hist.to_numpy()\n",
    "y = al_bas.to_numpy()"
   ]
  },
  {
   "cell_type": "code",
   "execution_count": null,
   "metadata": {},
   "outputs": [],
   "source": [
    "#DONT DELETE THIS\n",
    "#THIS MODEL LEADS TO OVERFITTING\n",
    "\n",
    "import keras\n",
    "from keras.layers import Dense\n",
    "from keras.models import Sequential\n",
    "from keras.optimizers import SGD\n",
    "\n",
    "model = Sequential()\n",
    "\n",
    "model.add(Dense(100,activation='relu'))\n",
    "model.add(Dense(100,activation='relu'))\n",
    "model.add(Dense(50,activation='relu'))\n",
    "model.add(Dense(1))\n",
    "\n",
    "sgd = SGD(lr = 0.05, decay = 0.0, momentum=0.8, nesterov=True)\n",
    "model.compile(loss='mse', optimizer='adam', metrics=['mae']) #mae=mean absolute error\n",
    "\n",
    "model.fit(X, y, validation_split=0.2, epochs=150, batch_size=50)"
   ]
  },
  {
   "cell_type": "code",
   "execution_count": null,
   "metadata": {},
   "outputs": [],
   "source": [
    "#This is the right model, don't change this!\n",
    "\n",
    "model = Sequential()\n",
    "\n",
    "model.add(Dense(100,activation='tanh'))\n",
    "model.add(Dense(20,activation='tanh'))\n",
    "model.add(Dense(1))\n",
    "\n",
    "sgd = SGD(lr = 0.01, decay = 0.0, momentum=0.8, nesterov=True)\n",
    "model.compile(loss='mae', optimizer='adam', metrics=['mse']) #mae=mean absolute error\n",
    "\n",
    "model.fit(X, y, validation_split=0.2, epochs=100, batch_size=50)"
   ]
  },
  {
   "cell_type": "code",
   "execution_count": null,
   "metadata": {},
   "outputs": [],
   "source": [
    "y_val = model.predict(X)"
   ]
  },
  {
   "cell_type": "code",
   "execution_count": null,
   "metadata": {},
   "outputs": [],
   "source": [
    "rounded = [int(round(v[0])) for v in y_val]\n",
    "y_new = [i[0] for i in y]\n",
    "diff = np.array([rounded[i]-y_new[i] for i in range(len(y_new))])"
   ]
  },
  {
   "cell_type": "code",
   "execution_count": null,
   "metadata": {},
   "outputs": [],
   "source": [
    "Counter(diff)"
   ]
  },
  {
   "cell_type": "code",
   "execution_count": null,
   "metadata": {},
   "outputs": [],
   "source": [
    "Counter(rounded)"
   ]
  },
  {
   "cell_type": "code",
   "execution_count": null,
   "metadata": {},
   "outputs": [],
   "source": [
    "Counter(y_new)"
   ]
  },
  {
   "cell_type": "code",
   "execution_count": null,
   "metadata": {},
   "outputs": [],
   "source": [
    "d ={key:0 for key in range(11)}\n",
    "for key, value in Counter(rounded).items():\n",
    "    d[abs(key)] = value\n",
    "    \n",
    "d"
   ]
  },
  {
   "cell_type": "code",
   "execution_count": null,
   "metadata": {},
   "outputs": [],
   "source": [
    "e ={key:0 for key in range(11)}\n",
    "for key, value in Counter(y_new).items():\n",
    "    e[abs(key)] = value\n",
    "e"
   ]
  },
  {
   "cell_type": "code",
   "execution_count": null,
   "metadata": {},
   "outputs": [],
   "source": [
    "for i in range(len(y)):\n",
    "    print(y[i][0],y_val[i][0])"
   ]
  },
  {
   "cell_type": "code",
   "execution_count": null,
   "metadata": {},
   "outputs": [],
   "source": [
    "U, S, VT = np.linalg.svd(X.T)"
   ]
  },
  {
   "cell_type": "code",
   "execution_count": null,
   "metadata": {},
   "outputs": [],
   "source": [
    "(S[0]**2+S[1]**2+S[2]**2+S[3]**2)/sum(S**2)"
   ]
  },
  {
   "cell_type": "code",
   "execution_count": null,
   "metadata": {},
   "outputs": [],
   "source": [
    "M = np.random.rand(100,100)"
   ]
  },
  {
   "cell_type": "code",
   "execution_count": null,
   "metadata": {},
   "outputs": [],
   "source": [
    "X_new = U.T@X.T"
   ]
  },
  {
   "cell_type": "code",
   "execution_count": null,
   "metadata": {},
   "outputs": [],
   "source": [
    "X_new = X_new.T"
   ]
  },
  {
   "cell_type": "code",
   "execution_count": null,
   "metadata": {},
   "outputs": [],
   "source": [
    "model = Sequential()\n",
    "\n",
    "model.add(Dense(100,activation='tanh'))\n",
    "model.add(Dense(20,activation='tanh'))\n",
    "model.add(Dense(1))\n",
    "\n",
    "sgd = SGD(lr = 0.01, decay = 0.0, momentum=0.8, nesterov=True)\n",
    "model.compile(loss='mae', optimizer='adam', metrics=['mse']) #mae=mean absolute error\n",
    "\n",
    "model.fit(X_new, y, validation_split=0.2, epochs=100, batch_size=50)"
   ]
  },
  {
   "cell_type": "code",
   "execution_count": null,
   "metadata": {},
   "outputs": [],
   "source": [
    "y_val = model.predict(X_new)"
   ]
  },
  {
   "cell_type": "code",
   "execution_count": null,
   "metadata": {},
   "outputs": [],
   "source": [
    "rounded = [int(round(v[0])) for v in y_val]\n",
    "y_new = [i[0] for i in y]\n",
    "diff = np.array([rounded[i]-y_new[i] for i in range(len(y_new))])"
   ]
  },
  {
   "cell_type": "code",
   "execution_count": null,
   "metadata": {},
   "outputs": [],
   "source": [
    "Counter(diff)"
   ]
  },
  {
   "cell_type": "code",
   "execution_count": null,
   "metadata": {},
   "outputs": [],
   "source": [
    "Counter(y_new)"
   ]
  },
  {
   "cell_type": "code",
   "execution_count": null,
   "metadata": {},
   "outputs": [],
   "source": [
    "\n",
    "a_mult = X[:,:-1]         #extract the columns containing a values\n",
    "\n",
    "b_mult = y\n",
    "A_mult = np.vstack([a_mult.T, np.ones(a_mult.shape[0])]).T  #create the matrix A with a's as the rows and ones in the last column\n",
    "\n",
    "result_mult = np.linalg.lstsq(A_mult, b_mult, rcond=None)\n",
    "tup = result_mult[0]\n",
    "x = tup[:-1]\n",
    "c = tup[-1]\n",
    "error_mult = result_mult[1]\n",
    "print(\"The vector x is:\", x)\n",
    "print(\"c is:\", c)\n",
    "print(\"Total error is\", error_mult[0])"
   ]
  },
  {
   "cell_type": "code",
   "execution_count": null,
   "metadata": {},
   "outputs": [],
   "source": [
    "y_reg = A_mult@tup"
   ]
  },
  {
   "cell_type": "code",
   "execution_count": null,
   "metadata": {},
   "outputs": [],
   "source": [
    "y_reg = [int(round(e[0])) for e in y_reg]"
   ]
  },
  {
   "cell_type": "code",
   "execution_count": null,
   "metadata": {},
   "outputs": [],
   "source": [
    "rounded = [((v[0])) for v in y_reg]\n",
    "y_new = [i[0] for i in y_val]\n",
    "#diff = np.array([rounded[i]-y_new[i] for i in range(len(y_new))])"
   ]
  },
  {
   "cell_type": "code",
   "execution_count": null,
   "metadata": {},
   "outputs": [],
   "source": [
    "Counter(diff)"
   ]
  },
  {
   "cell_type": "code",
   "execution_count": null,
   "metadata": {},
   "outputs": [],
   "source": [
    "y_vag= (np.array(rounded)+np.array(y_new))/2"
   ]
  },
  {
   "cell_type": "code",
   "execution_count": null,
   "metadata": {},
   "outputs": [],
   "source": [
    "def rounder(num):\n",
    "    if num<4 or num>6:\n",
    "        return round(num)\n",
    "    else:\n",
    "        if num<4.25:\n",
    "            return 4\n",
    "        else:\n",
    "            return 6\n",
    "y_rdd = [rounder(x) for x in y_vag]"
   ]
  },
  {
   "cell_type": "code",
   "execution_count": null,
   "metadata": {},
   "outputs": [],
   "source": [
    "diff = np.array([y_rdd[i]-y[i] for i in range(len(y_rdd))])"
   ]
  },
  {
   "cell_type": "code",
   "execution_count": null,
   "metadata": {},
   "outputs": [],
   "source": [
    "diff = [x[0] for x in diff]"
   ]
  },
  {
   "cell_type": "code",
   "execution_count": null,
   "metadata": {},
   "outputs": [],
   "source": [
    "Counter(diff)"
   ]
  },
  {
   "cell_type": "code",
   "execution_count": null,
   "metadata": {},
   "outputs": [],
   "source": [
    "y_vag"
   ]
  }
 ],
 "metadata": {
  "kernelspec": {
   "display_name": "Python 3",
   "language": "python",
   "name": "python3"
  },
  "language_info": {
   "codemirror_mode": {
    "name": "ipython",
    "version": 3
   },
   "file_extension": ".py",
   "mimetype": "text/x-python",
   "name": "python",
   "nbconvert_exporter": "python",
   "pygments_lexer": "ipython3",
   "version": "3.7.1"
  }
 },
 "nbformat": 4,
 "nbformat_minor": 2
}
